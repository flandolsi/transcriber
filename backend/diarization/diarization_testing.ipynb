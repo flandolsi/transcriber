{
 "cells": [
  {
   "cell_type": "code",
   "execution_count": 4,
   "metadata": {},
   "outputs": [
    {
     "name": "stderr",
     "output_type": "stream",
     "text": [
      "/home/cbeh/Projects/transcriber/.venv/lib/python3.10/site-packages/tqdm/auto.py:21: TqdmWarning: IProgress not found. Please update jupyter and ipywidgets. See https://ipywidgets.readthedocs.io/en/stable/user_install.html\n",
      "  from .autonotebook import tqdm as notebook_tqdm\n",
      "/home/cbeh/Projects/transcriber/.venv/lib/python3.10/site-packages/pyannote/audio/core/io.py:43: UserWarning: torchaudio._backend.set_audio_backend has been deprecated. With dispatcher enabled, this function is no-op. You can remove the function call.\n",
      "  torchaudio.set_audio_backend(\"soundfile\")\n",
      "/home/cbeh/Projects/transcriber/.venv/lib/python3.10/site-packages/torch_audiomentations/utils/io.py:27: UserWarning: torchaudio._backend.set_audio_backend has been deprecated. With dispatcher enabled, this function is no-op. You can remove the function call.\n",
      "  torchaudio.set_audio_backend(\"soundfile\")\n"
     ]
    }
   ],
   "source": [
    "from fastapi import FastAPI, Request, Response\n",
    "from fastapi.middleware.cors import CORSMiddleware\n",
    "from fastapi.responses import StreamingResponse, JSONResponse\n",
    "from fastapi.encoders import jsonable_encoder\n",
    "from tempfile import NamedTemporaryFile\n",
    "from faster_whisper import WhisperModel\n",
    "from pyannote.core import Segment, Annotation, Timeline\n",
    "from pyannote.audio import Pipeline\n",
    "# import torch\n",
    "import os\n",
    "\n",
    "model_size = \"large-v2\"\n",
    "\n",
    "model = WhisperModel(model_size,# device=\"cuda\",\n",
    "                     compute_type=\"int8\")"
   ]
  },
  {
   "cell_type": "code",
   "execution_count": 5,
   "metadata": {},
   "outputs": [],
   "source": [
    "#### Define diarization functions\n",
    "def get_text_with_timestamp(transcribe_res):\n",
    "    timestamp_texts = []\n",
    "    for i in transcribe_res:\n",
    "        start = i.start\n",
    "        end = i.end\n",
    "        text = i.text\n",
    "        timestamp_texts.append((Segment(round(start,2), round(end,2)), text))\n",
    "    return timestamp_texts\n",
    "\n",
    "\n",
    "def add_speaker_info_to_text(timestamp_texts, diarization):\n",
    "    spk_text = []\n",
    "    for seg, text in timestamp_texts:\n",
    "        spk = diarization.crop(seg).argmax()\n",
    "        spk_text.append((seg, spk, text))\n",
    "    return spk_text\n",
    "\n",
    "\n",
    "def merge_cache(text_cache):\n",
    "    sentence = ''.join([item[-1] for item in text_cache])\n",
    "    spk = text_cache[0][1]\n",
    "    start = text_cache[0][0].start\n",
    "    end = text_cache[-1][0].end\n",
    "    return Segment(start, end), spk, sentence\n",
    "\n",
    "\n",
    "PUNC_SENT_END = ['.', '?', '!']\n",
    "\n",
    "def merge_sentence(spk_text):\n",
    "    merged_spk_text = []\n",
    "    pre_spk = None\n",
    "    text_cache = []\n",
    "    for seg, spk, text in spk_text:\n",
    "        if spk != pre_spk and pre_spk is not None and len(text_cache) > 0:\n",
    "            merged_spk_text.append(merge_cache(text_cache))\n",
    "            text_cache = [(seg, spk, text)]\n",
    "            pre_spk = spk\n",
    "\n",
    "        elif text[-1] in PUNC_SENT_END:\n",
    "            text_cache.append((seg, spk, text))\n",
    "            merged_spk_text.append(merge_cache(text_cache))\n",
    "            text_cache = []\n",
    "            pre_spk = spk\n",
    "        else:\n",
    "            text_cache.append((seg, spk, text))\n",
    "            pre_spk = spk\n",
    "    if len(text_cache) > 0:\n",
    "        merged_spk_text.append(merge_cache(text_cache))\n",
    "    return merged_spk_text\n",
    "\n",
    "def diarize_text(transcribe_res, diarization_result):\n",
    "    timestamp_texts = get_text_with_timestamp(transcribe_res)\n",
    "    spk_text = add_speaker_info_to_text(timestamp_texts, diarization_result)\n",
    "    res_processed = merge_sentence(spk_text)\n",
    "    return res_processed\n",
    "###"
   ]
  },
  {
   "cell_type": "code",
   "execution_count": null,
   "metadata": {},
   "outputs": [],
   "source": [
    "os.environ[\"HUGGINGFACE_ACCESS_TOKEN\"] = '<insert hf access token here>'"
   ]
  },
  {
   "cell_type": "code",
   "execution_count": 10,
   "metadata": {},
   "outputs": [
    {
     "name": "stderr",
     "output_type": "stream",
     "text": [
      "torchvision is not available - cannot save figures\n"
     ]
    }
   ],
   "source": [
    "pipeline = Pipeline.from_pretrained(\n",
    "    \"pyannote/speaker-diarization-3.0\",\n",
    "    use_auth_token=os.environ[\"HUGGINGFACE_ACCESS_TOKEN\"])\n",
    "\n",
    "# pipeline = Pipeline.from_pretrained(\"config.yaml\")"
   ]
  },
  {
   "cell_type": "code",
   "execution_count": 11,
   "metadata": {},
   "outputs": [],
   "source": [
    "file_path = '<insert .mp3 file path here>'"
   ]
  },
  {
   "cell_type": "code",
   "execution_count": 18,
   "metadata": {},
   "outputs": [],
   "source": [
    "segments, info = model.transcribe(file_path, beam_size=5)\n",
    "diarization = pipeline(file_path, num_speakers=2)"
   ]
  },
  {
   "cell_type": "code",
   "execution_count": 19,
   "metadata": {},
   "outputs": [],
   "source": [
    "segments = list(segments)"
   ]
  },
  {
   "cell_type": "code",
   "execution_count": 20,
   "metadata": {},
   "outputs": [],
   "source": [
    "output = diarize_text(segments, diarization)"
   ]
  },
  {
   "cell_type": "code",
   "execution_count": 25,
   "metadata": {},
   "outputs": [
    {
     "data": {
      "text/plain": [
       "(<Segment(0, 20.72)>,\n",
       " 'SPEAKER_00',\n",
       " ' In chess there are sort of two main strategies.')"
      ]
     },
     "execution_count": 25,
     "metadata": {},
     "output_type": "execute_result"
    }
   ],
   "source": [
    "output[0]"
   ]
  },
  {
   "cell_type": "code",
   "execution_count": 38,
   "metadata": {},
   "outputs": [
    {
     "data": {
      "text/plain": [
       "[('[ 00:00:00.000 -->  00:00:20.720]',\n",
       "  'SPEAKER_00',\n",
       "  ' In chess there are sort of two main strategies.'),\n",
       " ('[ 00:00:20.720 -->  00:00:24.320]',\n",
       "  'SPEAKER_00',\n",
       "  ' There are people who just play the same openings every single time.'),\n",
       " ('[ 00:00:24.320 -->  00:00:29.360]',\n",
       "  'SPEAKER_00',\n",
       "  \" They're basically just saying, yeah, I trust in my prep.\"),\n",
       " ('[ 00:00:29.360 -->  00:00:31.240]',\n",
       "  'SPEAKER_00',\n",
       "  ' I trust in my strategies.'),\n",
       " ('[ 00:00:31.240 -->  00:00:36.400]',\n",
       "  'SPEAKER_00',\n",
       "  ' There are others who try and adjust it more.'),\n",
       " ('[ 00:00:36.400 -->  00:00:37.920]',\n",
       "  'SPEAKER_00',\n",
       "  ' And frankly, I like both.'),\n",
       " ('[ 00:00:37.920 -->  00:00:39.800]',\n",
       "  'SPEAKER_00',\n",
       "  \" That's a part of football as well.\"),\n",
       " ('[ 00:00:39.800 -->  00:00:47.400]',\n",
       "  'SPEAKER_01',\n",
       "  \" There's some prep, you know, potentially what your opponent could do, what kind of your plan going into the game, how you want to attack, how you want to defend, how you want to press.\"),\n",
       " ('[ 00:00:47.400 -->  00:00:57.280]',\n",
       "  'SPEAKER_00',\n",
       "  \" Football games, chess games, they're just being decided by really avoidable errors.\"),\n",
       " ('[ 00:00:57.320 -->  00:01:06.920]',\n",
       "  'SPEAKER_01',\n",
       "  ' A big part of football, I think, is like taking care of your body, doing the right amount of training, but also not killing yourself and, you know, tiring yourself out, especially during this end part of the season.'),\n",
       " ('[ 00:01:06.920 -->  00:01:13.520]',\n",
       "  'SPEAKER_01',\n",
       "  \" It's all about recovery and just making sure that your body feels as close to 100 percent once the game's come around.\"),\n",
       " ('[ 00:01:13.520 -->  00:01:16.920]',\n",
       "  'SPEAKER_00',\n",
       "  ' I certainly cannot match that.'),\n",
       " ('[ 00:01:16.920 -->  00:01:23.560]',\n",
       "  'SPEAKER_00',\n",
       "  ' If you sleep well, then usually the tournament goes well because you have less worries and such.'),\n",
       " ('[ 00:01:27.800 -->  00:01:29.560]',\n",
       "  'SPEAKER_00',\n",
       "  ' I never really had heroes.'),\n",
       " ('[ 00:01:29.560 -->  00:01:34.280]',\n",
       "  'SPEAKER_00',\n",
       "  ' There are a lot of players in both fields that I admire immensely.'),\n",
       " ('[ 00:01:34.280 -->  00:01:37.320]',\n",
       "  'SPEAKER_01',\n",
       "  ' One of my favorite players growing up was Luis Figo.'),\n",
       " ('[ 00:01:37.320 -->  00:01:43.560]',\n",
       "  'SPEAKER_01',\n",
       "  ' I obviously love watching the, you know, kind of the Ronaldo-Messi kind of rivalry unfold.'),\n",
       " ('[ 00:01:43.560 -->  00:01:46.000]',\n",
       "  'SPEAKER_01',\n",
       "  \" They've been so fun to watch for so long.\"),\n",
       " ('[ 00:01:46.000 -->  00:01:51.560]',\n",
       "  'SPEAKER_01',\n",
       "  \" I don't know a ton about the chess world, but I've definitely just followed Magnus's path.\"),\n",
       " ('[ 00:01:51.560 -->  00:01:53.560]',\n",
       "  'SPEAKER_01',\n",
       "  \" He's definitely top of the list for me.\"),\n",
       " ('[ 00:01:57.560 -->  00:02:05.200]',\n",
       "  'SPEAKER_01',\n",
       "  \" Football, I mean, I'm definitely an attacking player who just likes to be creative and likes to put defenders on their back foot and just kind of keep them guessing.\"),\n",
       " ('[ 00:02:05.200 -->  00:02:06.200]',\n",
       "  'SPEAKER_01',\n",
       "  \" That's kind of the style I like.\"),\n",
       " ('[ 00:02:06.200 -->  00:02:11.840]',\n",
       "  'SPEAKER_01',\n",
       "  \" I like to be very aggressive, very direct towards goals, so that's definitely my style.\"),\n",
       " ('[ 00:02:11.840 -->  00:02:13.720]',\n",
       "  'SPEAKER_00',\n",
       "  \" In football, it's easy.\"),\n",
       " ('[ 00:02:13.720 -->  00:02:14.720]', 'SPEAKER_00', \" I'm terrible.\"),\n",
       " ('[ 00:02:14.720 -->  00:02:26.600]',\n",
       "  'SPEAKER_00',\n",
       "  ' Chess, I would say, pretty universal, but definitely leaning towards positional rather than tactical play.'),\n",
       " ('[ 00:02:26.600 -->  00:02:30.120]',\n",
       "  'SPEAKER_01',\n",
       "  \" The games that I play, it's just about not making that critical error.\"),\n",
       " ('[ 00:02:30.120 -->  00:02:32.840]',\n",
       "  'SPEAKER_01',\n",
       "  ' I guess, for me, chess is also quite simple.'),\n",
       " ('[ 00:02:36.840 -->  00:02:40.840]',\n",
       "  'SPEAKER_01',\n",
       "  \" Yeah, having your own Puma shoe is pretty special, so I'm definitely proud of it.\"),\n",
       " ('[ 00:02:40.840 -->  00:02:44.520]',\n",
       "  'SPEAKER_01',\n",
       "  \" And, yeah, I'm excited for fans to be able to pick these up.\"),\n",
       " ('[ 00:02:44.520 -->  00:02:47.160]',\n",
       "  'SPEAKER_00',\n",
       "  ' The shoes are really stylish.'),\n",
       " ('[ 00:02:47.160 -->  00:02:54.360]',\n",
       "  'SPEAKER_00',\n",
       "  \" I love the look, and I'm excited for the future and for people to experience them.\"),\n",
       " ('[ 00:02:54.360 -->  00:02:57.560]',\n",
       "  'SPEAKER_01',\n",
       "  ' Magnus, here are your CP Puma boots.'),\n",
       " ('[ 00:02:57.560 -->  00:03:00.280]',\n",
       "  'SPEAKER_00',\n",
       "  ' Here are my signature shoes.'),\n",
       " ('[ 00:03:00.280 -->  00:03:01.480]',\n",
       "  'SPEAKER_00',\n",
       "  \" I'm going to wear them out of here.\"),\n",
       " ('[ 00:03:01.480 -->  00:03:02.480]', 'SPEAKER_00', ' Yeah.'),\n",
       " ('[ 00:03:02.480 -->  00:03:03.320]', 'SPEAKER_00', ' This is good stuff.')]"
      ]
     },
     "execution_count": 38,
     "metadata": {},
     "output_type": "execute_result"
    }
   ],
   "source": [
    "output_formatted = []\n",
    "for count, val in enumerate(output):\n",
    "    # output_2[i][0] = str(output_2[i][0])\n",
    "    segment_str = str(val[0])\n",
    "    speaker = val[1]\n",
    "    text = val[2]\n",
    "    output_formatted.append((segment_str, speaker, text))\n",
    "\n",
    "output_formatted"
   ]
  }
 ],
 "metadata": {
  "kernelspec": {
   "display_name": ".venv",
   "language": "python",
   "name": "python3"
  },
  "language_info": {
   "codemirror_mode": {
    "name": "ipython",
    "version": 3
   },
   "file_extension": ".py",
   "mimetype": "text/x-python",
   "name": "python",
   "nbconvert_exporter": "python",
   "pygments_lexer": "ipython3",
   "version": "3.10.12"
  }
 },
 "nbformat": 4,
 "nbformat_minor": 2
}
